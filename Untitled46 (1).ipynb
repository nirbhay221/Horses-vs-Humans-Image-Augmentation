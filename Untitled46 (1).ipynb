{
  "nbformat": 4,
  "nbformat_minor": 0,
  "metadata": {
    "colab": {
      "name": "Untitled46.ipynb",
      "provenance": [],
      "collapsed_sections": []
    },
    "kernelspec": {
      "name": "python3",
      "display_name": "Python 3"
    },
    "accelerator": "TPU"
  },
  "cells": [
    {
      "cell_type": "code",
      "metadata": {
        "id": "ALRSVDskjqJd",
        "outputId": "10757008-c562-4344-b0c7-34dafad902c9",
        "colab": {
          "base_uri": "https://localhost:8080/"
        }
      },
      "source": [
        "!wget --no-check-certificate \\\n",
        "    https://storage.googleapis.com/laurencemoroney-blog.appspot.com/horse-or-human.zip \\\n",
        "    -O /tmp/horse-or-human.zip\n",
        "\n",
        "!wget --no-check-certificate \\\n",
        "    https://storage.googleapis.com/laurencemoroney-blog.appspot.com/validation-horse-or-human.zip \\\n",
        "    -O /tmp/validation-horse-or-human.zip\n",
        "  \n"
      ],
      "execution_count": null,
      "outputs": [
        {
          "output_type": "stream",
          "text": [
            "--2020-11-03 14:57:21--  https://storage.googleapis.com/laurencemoroney-blog.appspot.com/horse-or-human.zip\n",
            "Resolving storage.googleapis.com (storage.googleapis.com)... 74.125.195.128, 74.125.142.128, 74.125.20.128, ...\n",
            "Connecting to storage.googleapis.com (storage.googleapis.com)|74.125.195.128|:443... connected.\n",
            "HTTP request sent, awaiting response... 200 OK\n",
            "Length: 149574867 (143M) [application/zip]\n",
            "Saving to: ‘/tmp/horse-or-human.zip’\n",
            "\n",
            "/tmp/horse-or-human 100%[===================>] 142.65M   173MB/s    in 0.8s    \n",
            "\n",
            "2020-11-03 14:57:22 (173 MB/s) - ‘/tmp/horse-or-human.zip’ saved [149574867/149574867]\n",
            "\n",
            "--2020-11-03 14:57:22--  https://storage.googleapis.com/laurencemoroney-blog.appspot.com/validation-horse-or-human.zip\n",
            "Resolving storage.googleapis.com (storage.googleapis.com)... 74.125.20.128, 142.250.99.128, 74.125.195.128, ...\n",
            "Connecting to storage.googleapis.com (storage.googleapis.com)|74.125.20.128|:443... connected.\n",
            "HTTP request sent, awaiting response... 200 OK\n",
            "Length: 11480187 (11M) [application/zip]\n",
            "Saving to: ‘/tmp/validation-horse-or-human.zip’\n",
            "\n",
            "/tmp/validation-hor 100%[===================>]  10.95M  --.-KB/s    in 0.1s    \n",
            "\n",
            "2020-11-03 14:57:22 (107 MB/s) - ‘/tmp/validation-horse-or-human.zip’ saved [11480187/11480187]\n",
            "\n"
          ],
          "name": "stdout"
        }
      ]
    },
    {
      "cell_type": "code",
      "metadata": {
        "id": "juXAr2zNl84T"
      },
      "source": [
        "import os\n",
        "import zipfile\n",
        "import tensorflow as tf\n",
        "from tensorflow.keras.preprocessing.image import ImageDataGenerator\n",
        "from tensorflow.keras.optimizers import RMSprop\n",
        "import matplotlib.pyplot"
      ],
      "execution_count": null,
      "outputs": []
    },
    {
      "cell_type": "code",
      "metadata": {
        "id": "4NUFwtWBmexg"
      },
      "source": [
        "local_dir  = '/tmp/horse-or-human.zip'\n",
        "zip_ref = zipfile.ZipFile(local_dir,'r')\n",
        "zip_ref.extractall('/tmp/horse-or-human')\n",
        "zip_ref.close()"
      ],
      "execution_count": null,
      "outputs": []
    },
    {
      "cell_type": "code",
      "metadata": {
        "id": "flM_YUymmsQB"
      },
      "source": [
        "local_dir = '/tmp/validation-horse-or-human.zip'\n",
        "zip_ref = zipfile.ZipFile(local_dir,'r')\n",
        "zip_ref.extractall('/tmp/validation-horse-or-human')\n",
        "zip_ref.close()"
      ],
      "execution_count": null,
      "outputs": []
    },
    {
      "cell_type": "code",
      "metadata": {
        "id": "VyFdvozDm6FB"
      },
      "source": [
        "base_dir = '/tmp/horse-or-human'\n",
        "val_dir = '/tmp/validation-horse-or-human'\n",
        "train_dir = os.path.join(base_dir)\n",
        "val_dir = os.path.join(val_dir)\n",
        "train_human_dir = os.path.join(train_dir,'humans')\n",
        "train_horse_dir = os.path.join(train_dir,'horses')\n",
        "validation_human_dir=os.path.join(val_dir,'humans')\n",
        "validation_horse_dir= os.path.join(val_dir,'horses')"
      ],
      "execution_count": null,
      "outputs": []
    },
    {
      "cell_type": "code",
      "metadata": {
        "id": "TC1gV4JlnpaY"
      },
      "source": [
        "model = tf.keras.models.Sequential([\n",
        "                                    tf.keras.layers.Conv2D(16,(3,3),activation='relu',input_shape=(300,300,3)),\n",
        "                                    tf.keras.layers.AveragePooling2D((2,2)),\n",
        "                                    tf.keras.layers.Conv2D(32,(3,3),activation='relu'),\n",
        "                                    tf.keras.layers.MaxPooling2D((2,2)),\n",
        "                                    tf.keras.layers.Conv2D(64,(3,3),activation='relu'),\n",
        "                                    tf.keras.layers.MaxPooling2D((2,2)),\n",
        "                                    tf.keras.layers.Conv2D(64,(3,3),activation = 'relu'),\n",
        "                                    tf.keras.layers.MaxPooling2D((2,2)),\n",
        "                                    tf.keras.layers.Conv2D(64,(3,3),activation = 'relu'),\n",
        "                                    tf.keras.layers.MaxPooling2D((2,2)),\n",
        "                                    tf.keras.layers.Flatten(),\n",
        "                                    tf.keras.layers.Dense(512,activation = 'relu'),\n",
        "                                    tf.keras.layers.Dense(1,activation = 'sigmoid')\n",
        "                    \n",
        "\n",
        "])"
      ],
      "execution_count": null,
      "outputs": []
    },
    {
      "cell_type": "code",
      "metadata": {
        "id": "3gYep5T0o9rT"
      },
      "source": [
        "model.compile(loss= 'binary_crossentropy',optimizer=RMSprop(lr=1e-4),metrics = ['accuracy'])\n",
        "train_datagen = ImageDataGenerator(rescale = 1.0/255.,\n",
        "                                   rotation_range= 40,\n",
        "                                   width_shift_range= 0.2,\n",
        "                                   height_shift_range =0.2,\n",
        "                                   shear_range = 0.2,\n",
        "                                   zoom_range = 0.2,\n",
        "                                   horizontal_flip = True,\n",
        "                                   fill_mode ='nearest')"
      ],
      "execution_count": null,
      "outputs": []
    },
    {
      "cell_type": "code",
      "metadata": {
        "id": "9iSABtYErxbq"
      },
      "source": [
        "validation_datagen = ImageDataGenerator(rescale=1.0/255.)"
      ],
      "execution_count": null,
      "outputs": []
    },
    {
      "cell_type": "code",
      "metadata": {
        "id": "DbspCDjur_K7",
        "outputId": "31883450-588e-4422-f664-7b4481e266f3",
        "colab": {
          "base_uri": "https://localhost:8080/"
        }
      },
      "source": [
        "train_data_generator = train_datagen.flow_from_directory(train_dir,target_size= (300,300),class_mode='binary',batch_size = 128)\n",
        "validation_data_generator = validation_datagen.flow_from_directory(val_dir,target_size = (300,300),class_mode= 'binary',batch_size = 32)\n"
      ],
      "execution_count": null,
      "outputs": [
        {
          "output_type": "stream",
          "text": [
            "Found 1027 images belonging to 2 classes.\n",
            "Found 256 images belonging to 2 classes.\n"
          ],
          "name": "stdout"
        }
      ]
    },
    {
      "cell_type": "code",
      "metadata": {
        "id": "cKee0kxqtSu_",
        "outputId": "c0b66e87-f4f6-430f-bc8c-b84d33c8ff96",
        "colab": {
          "base_uri": "https://localhost:8080/"
        }
      },
      "source": [
        "history =model.fit(train_data_generator,steps_per_epoch=8,epochs = 20,validation_data=validation_data_generator,validation_steps = 8,verbose = 1)"
      ],
      "execution_count": null,
      "outputs": [
        {
          "output_type": "stream",
          "text": [
            "Epoch 1/20\n",
            "8/8 [==============================] - 82s 10s/step - loss: 0.6865 - accuracy: 0.5228 - val_loss: 0.7091 - val_accuracy: 0.5000\n",
            "Epoch 2/20\n",
            "8/8 [==============================] - 85s 11s/step - loss: 0.6701 - accuracy: 0.6251 - val_loss: 0.6976 - val_accuracy: 0.5000\n",
            "Epoch 3/20\n",
            "8/8 [==============================] - 97s 12s/step - loss: 0.6638 - accuracy: 0.6485 - val_loss: 0.6859 - val_accuracy: 0.5039\n",
            "Epoch 4/20\n",
            "8/8 [==============================] - 82s 10s/step - loss: 0.6350 - accuracy: 0.7230 - val_loss: 0.6988 - val_accuracy: 0.5039\n",
            "Epoch 5/20\n",
            "8/8 [==============================] - 97s 12s/step - loss: 0.6061 - accuracy: 0.7108 - val_loss: 0.8210 - val_accuracy: 0.5000\n",
            "Epoch 6/20\n",
            "8/8 [==============================] - 93s 12s/step - loss: 0.5769 - accuracy: 0.7070 - val_loss: 0.7141 - val_accuracy: 0.5312\n",
            "Epoch 7/20\n",
            "8/8 [==============================] - 81s 10s/step - loss: 0.5559 - accuracy: 0.7164 - val_loss: 0.8879 - val_accuracy: 0.5000\n",
            "Epoch 8/20\n",
            "8/8 [==============================] - 81s 10s/step - loss: 0.5289 - accuracy: 0.7286 - val_loss: 0.5868 - val_accuracy: 0.6445\n",
            "Epoch 9/20\n",
            "8/8 [==============================] - 97s 12s/step - loss: 0.5366 - accuracy: 0.7119 - val_loss: 0.9536 - val_accuracy: 0.5039\n",
            "Epoch 10/20\n",
            "8/8 [==============================] - 98s 12s/step - loss: 0.4873 - accuracy: 0.7798 - val_loss: 1.0607 - val_accuracy: 0.5000\n",
            "Epoch 11/20\n",
            "8/8 [==============================] - 82s 10s/step - loss: 0.4963 - accuracy: 0.7408 - val_loss: 1.0089 - val_accuracy: 0.5117\n",
            "Epoch 12/20\n",
            "8/8 [==============================] - 85s 11s/step - loss: 0.5066 - accuracy: 0.7375 - val_loss: 1.1085 - val_accuracy: 0.5117\n",
            "Epoch 13/20\n",
            "8/8 [==============================] - 82s 10s/step - loss: 0.4886 - accuracy: 0.7608 - val_loss: 1.1982 - val_accuracy: 0.5117\n",
            "Epoch 14/20\n",
            "8/8 [==============================] - 85s 11s/step - loss: 0.5014 - accuracy: 0.7675 - val_loss: 1.0208 - val_accuracy: 0.5352\n",
            "Epoch 15/20\n",
            "8/8 [==============================] - 82s 10s/step - loss: 0.4560 - accuracy: 0.7909 - val_loss: 0.6621 - val_accuracy: 0.6406\n",
            "Epoch 16/20\n",
            "8/8 [==============================] - 82s 10s/step - loss: 0.4884 - accuracy: 0.7842 - val_loss: 1.1856 - val_accuracy: 0.5352\n",
            "Epoch 17/20\n",
            "8/8 [==============================] - 85s 11s/step - loss: 0.4312 - accuracy: 0.8131 - val_loss: 0.8772 - val_accuracy: 0.6016\n",
            "Epoch 18/20\n",
            "8/8 [==============================] - 83s 10s/step - loss: 0.4487 - accuracy: 0.8009 - val_loss: 1.1923 - val_accuracy: 0.5352\n",
            "Epoch 19/20\n",
            "8/8 [==============================] - 83s 10s/step - loss: 0.4294 - accuracy: 0.8065 - val_loss: 1.1589 - val_accuracy: 0.5664\n",
            "Epoch 20/20\n",
            "8/8 [==============================] - 98s 12s/step - loss: 0.4199 - accuracy: 0.8020 - val_loss: 1.7861 - val_accuracy: 0.5117\n"
          ],
          "name": "stdout"
        }
      ]
    },
    {
      "cell_type": "code",
      "metadata": {
        "id": "GPkcqFPMu2b9",
        "outputId": "66f1a444-bb2e-402a-e13f-461ec189edda",
        "colab": {
          "base_uri": "https://localhost:8080/",
          "height": 545
        }
      },
      "source": [
        "import matplotlib.pyplot as plt\n",
        "acc = history.history['accuracy']\n",
        "val_acc= history.history['val_accuracy']\n",
        "loss= history.history['loss']\n",
        "val_loss = history.history['val_loss']\n",
        "epochs = range(len(acc))\n",
        "plt.plot(epochs,acc,label='Training Accuracy')\n",
        "plt.plot(epochs,val_acc,label = 'Validation Accuracy')\n",
        "plt.title('Training and Validation Accuracy')\n",
        "plt.figure()\n",
        "plt.plot(epochs,loss,label ='Training Loss')\n",
        "plt.plot(epochs,val_loss,label = 'Validation Loss')\n",
        "plt.legend()\n",
        "plt.title('Training and Validation Loss')\n",
        "plt.show()"
      ],
      "execution_count": null,
      "outputs": [
        {
          "output_type": "display_data",
          "data": {
            "image/png": "[encoded data removed]",
            "text/plain": [
              "<Figure size 432x288 with 1 Axes>"
            ]
          },
          "metadata": {
            "tags": [],
            "needs_background": "light"
          }
        },
        {
          "output_type": "display_data",
          "data": {
            "image/png": "[encoded data removed]",
            "text/plain": [
              "<Figure size 432x288 with 1 Axes>"
            ]
          },
          "metadata": {
            "tags": [],
            "needs_background": "light"
          }
        }
      ]
    },
    {
      "cell_type": "code",
      "metadata": {
        "id": "Rr3fYqVi23zw"
      },
      "source": [
        ""
      ],
      "execution_count": null,
      "outputs": []
    }
  ]
}